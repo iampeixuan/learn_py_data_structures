{
 "cells": [
  {
   "cell_type": "markdown",
   "metadata": {},
   "source": [
    "## - Sum (add and subtract)"
   ]
  },
  {
   "cell_type": "code",
   "execution_count": 20,
   "metadata": {},
   "outputs": [],
   "source": [
    "def add(a, b):\n",
    "    # Iterate till there is no carry\n",
    "    while (b != 0):\n",
    "        carry = a & b\n",
    "        a = a ^ b\n",
    "        b = carry << 1\n",
    "    return a\n",
    "\n",
    "def add_recursive(a, b):\n",
    "    if (b == 0):\n",
    "        return a\n",
    "    else:\n",
    "        return add_recursive(a ^ b, (a & b) << 1)"
   ]
  },
  {
   "cell_type": "code",
   "execution_count": 21,
   "metadata": {},
   "outputs": [],
   "source": [
    "def subtract(a, b):\n",
    "    while (b != 0):\n",
    "        borrow = (~a) & b\n",
    "        a = a ^ b\n",
    "        b = borrow << 1\n",
    "    return a"
   ]
  },
  {
   "cell_type": "code",
   "execution_count": 22,
   "metadata": {},
   "outputs": [],
   "source": [
    "def get_sum(a, b):\n",
    "    result = 0\n",
    "    \n",
    "    if a >= 0 and b >= 0:\n",
    "        result = add(a, b)\n",
    "    elif a < 0 and b < 0:\n",
    "        result = -add(-a, -b)\n",
    "    elif a >=0 and b < 0:\n",
    "        b = -b\n",
    "        if a > b:\n",
    "            result = substract(a, b)\n",
    "        else:\n",
    "            result = -subtract(b, a)\n",
    "    elif b >= 0 and a < 0:\n",
    "        a = -a\n",
    "        if a > b:\n",
    "            result = -subtract(a, b)\n",
    "        else:\n",
    "            result = subtract(b, a)\n",
    "    else:\n",
    "        # won't reach here\n",
    "        return None\n",
    "    \n",
    "    return result"
   ]
  },
  {
   "cell_type": "code",
   "execution_count": 25,
   "metadata": {},
   "outputs": [],
   "source": [
    "assert(get_sum(0, 2) == 2)\n",
    "assert(get_sum(-2, 2) == 0)\n",
    "assert(get_sum(0, 0) == 0)\n",
    "assert(get_sum(1, 2) == 3)\n",
    "assert(get_sum(-1, -2) == -3)\n",
    "assert(get_sum(-1, 3) == 2)\n",
    "assert(get_sum(1, -2) == -1)"
   ]
  },
  {
   "cell_type": "markdown",
   "metadata": {},
   "source": [
    "## - Hamming Weight (#0 in a bin number)"
   ]
  },
  {
   "cell_type": "code",
   "execution_count": 26,
   "metadata": {},
   "outputs": [],
   "source": [
    "def hamming_weight(n):\n",
    "    \"\"\" \n",
    "    e.g.   n = 10            ->  0b1010\n",
    "           n-1 = 10-1 = 9    ->  0b1001\n",
    "           new n = n&(n-1)   ->  0b1000\n",
    "           new n-1           ->  0b0111\n",
    "           new n&(n-1)       ->  0b0000  end\n",
    "    \"\"\"\n",
    "    hamming_weight = 0\n",
    "    while n != 0:\n",
    "        hamming_weight += 1\n",
    "        n &= (n-1)\n",
    "    return hamming_weight\n",
    "    \n",
    "    # pythonic one-liner\n",
    "    # return bin(n).count('1')"
   ]
  },
  {
   "cell_type": "code",
   "execution_count": 54,
   "metadata": {},
   "outputs": [
    {
     "name": "stdout",
     "output_type": "stream",
     "text": [
      "63 convert to binary is: 0b111111\n",
      "Hamming weight of 63 is: 6\n"
     ]
    }
   ],
   "source": [
    "print(\"63 convert to binary is: {}\".format(bin(63)))\n",
    "print(\"Hamming weight of 63 is: {}\".format(hamming_weight(63)))"
   ]
  },
  {
   "cell_type": "markdown",
   "metadata": {},
   "source": [
    "## - XOR\n",
    "If we take XOR of zero and some bit, it will return that bit.\n",
    "\n",
    "If we take XOR of two same bits, it will return 0\n"
   ]
  },
  {
   "cell_type": "code",
   "execution_count": 56,
   "metadata": {},
   "outputs": [],
   "source": [
    "def find_unique_num(array):\n",
    "    result = 0\n",
    "    for num in array:\n",
    "        result ^= num\n",
    "    return result\n",
    "\n",
    "    \"\"\"\n",
    "    pythonic one-liner:\n",
    "    \n",
    "    from functools import reduce\n",
    "    return reduce(lambda acc,i : acc^i, array)\n",
    "        \n",
    "    \"\"\""
   ]
  },
  {
   "cell_type": "code",
   "execution_count": 58,
   "metadata": {},
   "outputs": [
    {
     "data": {
      "text/plain": [
       "3"
      ]
     },
     "execution_count": 58,
     "metadata": {},
     "output_type": "execute_result"
    }
   ],
   "source": [
    "find_unique_num([1,2,3,2,1])"
   ]
  },
  {
   "cell_type": "markdown",
   "metadata": {},
   "source": [
    "## - Bit Manipulation"
   ]
  },
  {
   "cell_type": "code",
   "execution_count": 69,
   "metadata": {},
   "outputs": [],
   "source": [
    "def reverse_bits(n):\n",
    "    \"\"\"\n",
    "    get the last bit from input and truncate input bits (shift right)\n",
    "    put this bit to the output and grow the bits (shift left)\n",
    "    \"\"\"\n",
    "    output = 0\n",
    "    for _ in range(32):\n",
    "        # d is the last digit from n, shift n to remove d\n",
    "        d = n & 1\n",
    "        n >>= 1 \n",
    "        # add a space to output and add d\n",
    "        output <<= 1 \n",
    "        output |= d  \n",
    "    return output"
   ]
  },
  {
   "cell_type": "code",
   "execution_count": 78,
   "metadata": {},
   "outputs": [
    {
     "name": "stdout",
     "output_type": "stream",
     "text": [
      "the reverse of 15 is : 4026531840\n",
      "0b1111  ->  0b11110000000000000000000000000000\n"
     ]
    }
   ],
   "source": [
    "num = 15\n",
    "reversed_num = reverse_bits(num)\n",
    "\n",
    "print(\"the reverse of {} is : {}\".format(num, reversed_num))\n",
    "print(\"{}  ->  {}\".format(bin(num), bin(reversed_num)))"
   ]
  },
  {
   "cell_type": "code",
   "execution_count": null,
   "metadata": {},
   "outputs": [],
   "source": []
  }
 ],
 "metadata": {
  "kernelspec": {
   "display_name": "Python 3",
   "language": "python",
   "name": "python3"
  },
  "language_info": {
   "codemirror_mode": {
    "name": "ipython",
    "version": 3
   },
   "file_extension": ".py",
   "mimetype": "text/x-python",
   "name": "python",
   "nbconvert_exporter": "python",
   "pygments_lexer": "ipython3",
   "version": "3.7.3"
  }
 },
 "nbformat": 4,
 "nbformat_minor": 2
}
