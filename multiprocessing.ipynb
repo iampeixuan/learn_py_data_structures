{
 "cells": [
  {
   "cell_type": "code",
   "execution_count": 1,
   "metadata": {},
   "outputs": [
    {
     "name": "stdout",
     "output_type": "stream",
     "text": [
      "6 cores available\n"
     ]
    }
   ],
   "source": [
    "import multiprocessing\n",
    "num_cores = multiprocessing.cpu_count()\n",
    "print(\"{} cores available\".format(num_cores))"
   ]
  },
  {
   "cell_type": "markdown",
   "metadata": {},
   "source": [
    "## Pool\n",
    "a convenient and simple way to parallelize the execution of a function across multiple input values"
   ]
  },
  {
   "cell_type": "code",
   "execution_count": 2,
   "metadata": {
    "scrolled": true
   },
   "outputs": [
    {
     "name": "stdout",
     "output_type": "stream",
     "text": [
      "PID 26692 is processing input 0\n",
      "PID 26693 is processing input 1\n",
      "PID 26694 is processing input 2\n",
      "PID 26699 is processing input 5\n",
      "PID 26696 is processing input 4\n",
      "PID 26695 is processing input 3\n",
      "[0, 1, 4, 9, 16, 25]\n"
     ]
    }
   ],
   "source": [
    "import os\n",
    "import time\n",
    "from multiprocessing import Pool\n",
    "\n",
    "def square(x):\n",
    "    print(\"PID {} is processing input {}\".format(os.getpid(), x))\n",
    "    return x ** 2\n",
    "\n",
    "# define numbe of processes created equal to the number of cores\n",
    "p = Pool(processes=num_cores)\n",
    "\n",
    "# map the inputs to processes\n",
    "result = p.map(square, range(6))\n",
    "\n",
    "time.sleep(0.1)\n",
    "print(result)"
   ]
  },
  {
   "cell_type": "markdown",
   "metadata": {},
   "source": [
    "## Thread vs Process\n",
    "\n",
    "Thread:\n",
    "- A new thread is created within the existing process\n",
    "- Memory is shared amongs all threads within a process\n",
    "- One GIL for all threads within a process\n",
    "\n",
    "Process:\n",
    "- A new process is started independent from the main process\n",
    "- Each process has its own memory space\n",
    "- One GIL for each process"
   ]
  },
  {
   "cell_type": "code",
   "execution_count": 3,
   "metadata": {},
   "outputs": [],
   "source": [
    "# just some time-consuimg function\n",
    "def calc_cube():\n",
    "    print(\"function is executed on pid: {}\".format(os.getpid()))\n",
    "    for i in range(0, 1000000):\n",
    "        i ** 3"
   ]
  },
  {
   "cell_type": "code",
   "execution_count": 4,
   "metadata": {},
   "outputs": [
    {
     "name": "stdout",
     "output_type": "stream",
     "text": [
      "pid of parent process: 26678\n",
      "creating thread 0\n",
      "creating thread 1\n",
      "creating thread 2\n",
      "creating thread 3\n",
      "creating thread 4\n",
      "creating thread 5\n",
      "function is executed on pid: 26678\n",
      "function is executed on pid: 26678\n",
      "function is executed on pid: 26678\n",
      "function is executed on pid: 26678\n",
      "function is executed on pid: 26678\n",
      "function is executed on pid: 26678\n",
      "time taken: 0:00:01.457958\n"
     ]
    }
   ],
   "source": [
    "from datetime import datetime\n",
    "import threading\n",
    "\n",
    "print(\"pid of parent process: {}\".format(os.getpid()))\n",
    "t_start = datetime.now()\n",
    "\n",
    "threads = []\n",
    "for i in range(num_cores):\n",
    "    print(\"creating thread {}\".format(i))\n",
    "    threads.append(threading.Thread(target=calc_cube))\n",
    "\n",
    "for thread in threads:\n",
    "    thread.start()\n",
    "\n",
    "for thread in threads:\n",
    "    thread.join()\n",
    "    \n",
    "t_end = datetime.now()\n",
    "\n",
    "print(\"time taken: {}\".format(t_end-t_start))"
   ]
  },
  {
   "cell_type": "code",
   "execution_count": 5,
   "metadata": {},
   "outputs": [
    {
     "name": "stdout",
     "output_type": "stream",
     "text": [
      "pid of parent process: 26678\n",
      "creating process 0\n",
      "creating process 1\n",
      "creating process 2\n",
      "creating process 3\n",
      "creating process 4\n",
      "creating process 5\n",
      "function is executed on pid: 26722\n",
      "function is executed on pid: 26725\n",
      "function is executed on pid: 26729\n",
      "function is executed on pid: 26732\n",
      "function is executed on pid: 26733\n",
      "function is executed on pid: 26728\n",
      "time taken: 0:00:00.264661\n"
     ]
    }
   ],
   "source": [
    "from multiprocessing import Process\n",
    "\n",
    "print(\"pid of parent process: {}\".format(os.getpid()))\n",
    "\n",
    "t_start = datetime.now()\n",
    "\n",
    "processes = []\n",
    "for i in range(num_cores):\n",
    "    print(\"creating process {}\".format(i))\n",
    "    processes.append(Process(target=calc_cube))\n",
    "    \n",
    "for process in processes:\n",
    "    process.start()\n",
    "    \n",
    "for process in processes:\n",
    "    process.join()\n",
    "    \n",
    "t_end = datetime.now()\n",
    "\n",
    "print(\"time taken: {}\".format(t_end-t_start))"
   ]
  },
  {
   "cell_type": "markdown",
   "metadata": {},
   "source": [
    "## Inter Process Communication\n",
    "1. write/read file\n",
    "2. shared value/array\n",
    "3. queue/pipe"
   ]
  },
  {
   "cell_type": "code",
   "execution_count": 6,
   "metadata": {},
   "outputs": [
    {
     "name": "stdout",
     "output_type": "stream",
     "text": [
      "Value: 3.14\n",
      "Array: [0, 1, 4, 9, 16, 25, 36, 49, 64, 81]\n"
     ]
    }
   ],
   "source": [
    "# using shared memory method\n",
    "from multiprocessing import Process, Value, Array\n",
    "\n",
    "def ipc(input_arr, result_arr, val):\n",
    "    # use Value.value to modify\n",
    "    val.value = 3.14\n",
    "    \n",
    "    # access Array based on index\n",
    "    for idx, num in enumerate(input_arr):\n",
    "        result_arr[idx] = num ** 2\n",
    "\n",
    "\n",
    "input_num = list(range(10))\n",
    "\n",
    "# i -> int, d -> double\n",
    "result = Array('i',10)\n",
    "val = Value('d', 0.0)\n",
    "\n",
    "p = Process(target=ipc, args=(input_num, result, val))\n",
    "p.start()\n",
    "p.join()\n",
    "\n",
    "print(\"Value:\", val.value)\n",
    "print(\"Array:\", result[:])"
   ]
  },
  {
   "cell_type": "code",
   "execution_count": 7,
   "metadata": {},
   "outputs": [
    {
     "name": "stdout",
     "output_type": "stream",
     "text": [
      "0 1 4 9 16 25 36 49 64 81 "
     ]
    }
   ],
   "source": [
    "# using Queue (First In First Out)\n",
    "from multiprocessing import Queue\n",
    "\n",
    "def calc_square_q(input_arr, q):\n",
    "    for num in input_arr:\n",
    "        q.put(num ** 2)\n",
    "\n",
    "\n",
    "input_num = list(range(10))\n",
    "\n",
    "q = Queue()\n",
    "p = Process(target=calc_square_q, args=(input_num, q))\n",
    "p.start()\n",
    "p.join()\n",
    "\n",
    "while not q.empty():\n",
    "    print(q.get(), end=\" \")"
   ]
  },
  {
   "cell_type": "code",
   "execution_count": 8,
   "metadata": {},
   "outputs": [
    {
     "name": "stdout",
     "output_type": "stream",
     "text": [
      "0 1 4 9 16 25 36 49 64 81 "
     ]
    }
   ],
   "source": [
    "# using Pipe (better performance but blocking)\n",
    "from multiprocessing import Pipe\n",
    "\n",
    "def calc_square_p(input_arr, p):\n",
    "    for num in input_arr:\n",
    "        p.send(num ** 2)\n",
    "    p.send(\"end\")\n",
    "\n",
    "input_num = list(range(10))\n",
    "\n",
    "# a pipe has two ends\n",
    "p_parent, p_children = Pipe()\n",
    "p = Process(target=calc_square_p, args=(input_num, p_children))\n",
    "p.start()\n",
    "\n",
    "while True:\n",
    "    received = p_parent.recv()\n",
    "    if received == 'end':\n",
    "        break\n",
    "    else:\n",
    "        print(received, end=\" \")\n",
    "        \n",
    "p.join()"
   ]
  },
  {
   "cell_type": "markdown",
   "metadata": {},
   "source": [
    "## Lock"
   ]
  },
  {
   "cell_type": "code",
   "execution_count": 9,
   "metadata": {},
   "outputs": [
    {
     "name": "stdout",
     "output_type": "stream",
     "text": [
      "starting balance: 0\n",
      "end balance: 8\n"
     ]
    }
   ],
   "source": [
    "# Bank account example - no lock\n",
    "# behavior cannot be determined, due to the concurrent operation on shared variable \n",
    "def deposit(balance):\n",
    "    for i in range(1000):\n",
    "        time.sleep(0.001)\n",
    "        balance.value = balance.value + 1\n",
    "\n",
    "def withdraw(balance):\n",
    "    for i in range(1000):\n",
    "        time.sleep(0.001)\n",
    "        balance.value = balance.value - 1\n",
    "\n",
    "\n",
    "my_balance = Value('i', 0)\n",
    "print(\"starting balance: {}\".format(my_balance.value))\n",
    "\n",
    "d = Process(target=deposit, args=(my_balance,))\n",
    "w = Process(target=withdraw, args=(my_balance,))\n",
    "\n",
    "d.start()\n",
    "w.start()\n",
    "d.join()\n",
    "w.join()\n",
    "\n",
    "print(\"end balance: {}\".format(my_balance.value))"
   ]
  },
  {
   "cell_type": "code",
   "execution_count": 10,
   "metadata": {},
   "outputs": [
    {
     "name": "stdout",
     "output_type": "stream",
     "text": [
      "starting balance: 0\n",
      "end balance: 0\n"
     ]
    }
   ],
   "source": [
    "# Bank account example - with lock\n",
    "from multiprocessing import Lock\n",
    "\n",
    "def deposit(balance, lock):\n",
    "    for i in range(1000):\n",
    "        time.sleep(0.001)\n",
    "        lock.acquire()\n",
    "        balance.value = balance.value + 1\n",
    "        lock.release()\n",
    "\n",
    "def withdraw(balance, lock):\n",
    "    for i in range(1000):\n",
    "        time.sleep(0.001)\n",
    "        lock.acquire()\n",
    "        balance.value = balance.value - 1\n",
    "        lock.release()\n",
    "\n",
    "my_balance = Value('i', 0)\n",
    "print(\"starting balance: {}\".format(my_balance.value))\n",
    "\n",
    "lock = multiprocessing.Lock()\n",
    "d = Process(target=deposit, args=(my_balance, lock))\n",
    "w = Process(target=withdraw, args=(my_balance, lock))\n",
    "\n",
    "d.start()\n",
    "w.start()\n",
    "d.join()\n",
    "w.join()\n",
    "\n",
    "print(\"end balance: {}\".format(my_balance.value))"
   ]
  },
  {
   "cell_type": "code",
   "execution_count": null,
   "metadata": {},
   "outputs": [],
   "source": []
  }
 ],
 "metadata": {
  "kernelspec": {
   "display_name": "Python 3",
   "language": "python",
   "name": "python3"
  },
  "language_info": {
   "codemirror_mode": {
    "name": "ipython",
    "version": 3
   },
   "file_extension": ".py",
   "mimetype": "text/x-python",
   "name": "python",
   "nbconvert_exporter": "python",
   "pygments_lexer": "ipython3",
   "version": "3.7.3"
  }
 },
 "nbformat": 4,
 "nbformat_minor": 2
}
