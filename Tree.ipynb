{
 "cells": [
  {
   "cell_type": "code",
   "execution_count": 37,
   "metadata": {},
   "outputs": [],
   "source": [
    "class Node:\n",
    "    def __init__(self, data):\n",
    "        self.left = None\n",
    "        self.right = None\n",
    "        self.data = data\n",
    "        \n",
    "        \n",
    "    # insert method create nodes\n",
    "    def insert(self, data):\n",
    "        # go left\n",
    "        if data < self.data:\n",
    "            if self.left is None:\n",
    "                self.left = Node(data)\n",
    "            else:\n",
    "                self.left.insert(data)\n",
    "        # go right\n",
    "        elif data > self.data:\n",
    "            if self.right is None:\n",
    "                self.right = Node(data)\n",
    "            else:\n",
    "                self.right.insert(data)\n",
    "        # data exists\n",
    "        else:\n",
    "            self.data = data\n",
    "            \n",
    "            \n",
    "    def find_val(self, val):\n",
    "        if val < self.data:\n",
    "            if self.left is None:\n",
    "                print(\"Not Found\")\n",
    "            else:\n",
    "                return self.left.find_val(val)\n",
    "        elif val > self.data:\n",
    "            if self.right is None:\n",
    "                print(\"Not Found\")\n",
    "            else:\n",
    "                return self.right.find_val(val)\n",
    "        else:\n",
    "            print(\"Found\")\n",
    "             \n",
    "        \n",
    "    def traverse(self, root, order):\n",
    "        result = []\n",
    "        \n",
    "        if root:\n",
    "            \n",
    "            # Left -> Root -> Right\n",
    "            if order == 'in':\n",
    "                result = self.traverse(root.left, order)\n",
    "                result.append(root.data)\n",
    "                result += self.traverse(root.right, order)\n",
    "        \n",
    "            # Root -> Left -> Right\n",
    "            elif order == 'pre':\n",
    "                result.append(root.data)\n",
    "                result += self.traverse(root.left, order)\n",
    "                result += self.traverse(root.right, order)\n",
    "            \n",
    "            # Left -> Right -> Root\n",
    "            elif order == 'post':\n",
    "                result = self.traverse(root.left, order)\n",
    "                result += self.traverse(root.right, order)\n",
    "                result.append(root.data)\n",
    "            \n",
    "            else:\n",
    "                print(\"choose order from in/pre/post\")\n",
    "                exit(1)\n",
    "        \n",
    "        return result"
   ]
  },
  {
   "cell_type": "code",
   "execution_count": 38,
   "metadata": {},
   "outputs": [
    {
     "name": "stdout",
     "output_type": "stream",
     "text": [
      "Not Found\n",
      "Found\n"
     ]
    }
   ],
   "source": [
    "root = Node(25)\n",
    "\n",
    "values = [15, 50, 10, 22, 35, 70, 4, 12, 18, 24, 31, 44, 66, 90]\n",
    "for val in values:\n",
    "    root.insert(val)\n",
    "\n",
    "root.find_val(7)\n",
    "root.find_val(15)"
   ]
  },
  {
   "cell_type": "code",
   "execution_count": 40,
   "metadata": {},
   "outputs": [
    {
     "data": {
      "text/plain": [
       "[4, 10, 12, 15, 18, 22, 24, 25, 31, 35, 44, 50, 66, 70, 90]"
      ]
     },
     "execution_count": 40,
     "metadata": {},
     "output_type": "execute_result"
    }
   ],
   "source": [
    "root.traverse(root, 'in')"
   ]
  },
  {
   "cell_type": "code",
   "execution_count": 41,
   "metadata": {},
   "outputs": [
    {
     "data": {
      "text/plain": [
       "[25, 15, 10, 4, 12, 22, 18, 24, 50, 35, 31, 44, 70, 66, 90]"
      ]
     },
     "execution_count": 41,
     "metadata": {},
     "output_type": "execute_result"
    }
   ],
   "source": [
    "root.traverse(root, 'pre')"
   ]
  },
  {
   "cell_type": "code",
   "execution_count": 42,
   "metadata": {},
   "outputs": [
    {
     "data": {
      "text/plain": [
       "[4, 12, 10, 18, 24, 22, 15, 31, 44, 35, 66, 90, 70, 50, 25]"
      ]
     },
     "execution_count": 42,
     "metadata": {},
     "output_type": "execute_result"
    }
   ],
   "source": [
    "root.traverse(root, 'post')"
   ]
  },
  {
   "cell_type": "markdown",
   "metadata": {},
   "source": [
    "![Tree example](tree.jpg)"
   ]
  },
  {
   "cell_type": "code",
   "execution_count": null,
   "metadata": {},
   "outputs": [],
   "source": []
  },
  {
   "cell_type": "code",
   "execution_count": 12,
   "metadata": {},
   "outputs": [],
   "source": [
    "class Trie:\n",
    "    \n",
    "    def __init__(self):\n",
    "        self.trie = {}\n",
    "    \n",
    "    \n",
    "    def insert(self, word):\n",
    "        curr = self.trie\n",
    "        \n",
    "        for c in word:\n",
    "            if c not in curr:\n",
    "                curr[c] = {}\n",
    "            curr = curr[c]\n",
    "            \n",
    "        curr['*'] = True\n",
    "        \n",
    "        \n",
    "    def search(self, word):\n",
    "        curr = self.trie\n",
    "        \n",
    "        for c in word:\n",
    "            if c not in curr:\n",
    "                return False\n",
    "            else:\n",
    "                curr = curr[c]\n",
    "                \n",
    "        if '*' in curr and curr['*'] == True:\n",
    "            return True\n",
    "        \n",
    "        return False\n",
    "        \n",
    "        \n",
    "    def startswith(self, prefix):\n",
    "        curr = self.trie\n",
    "        \n",
    "        for c in prefix:\n",
    "            if c not in curr:\n",
    "                return False\n",
    "            else:\n",
    "                curr = curr[c]\n",
    "        return True"
   ]
  },
  {
   "cell_type": "code",
   "execution_count": 13,
   "metadata": {},
   "outputs": [
    {
     "name": "stdout",
     "output_type": "stream",
     "text": [
      "False\n",
      "True\n",
      "True\n"
     ]
    }
   ],
   "source": [
    "trie = Trie()\n",
    "\n",
    "trie.insert('apple')\n",
    "\n",
    "print(trie.search('app'))\n",
    "print(trie.search('apple'))\n",
    "print(trie.startswith('app'))"
   ]
  },
  {
   "cell_type": "code",
   "execution_count": null,
   "metadata": {},
   "outputs": [],
   "source": []
  }
 ],
 "metadata": {
  "kernelspec": {
   "display_name": "Python 3",
   "language": "python",
   "name": "python3"
  },
  "language_info": {
   "codemirror_mode": {
    "name": "ipython",
    "version": 3
   },
   "file_extension": ".py",
   "mimetype": "text/x-python",
   "name": "python",
   "nbconvert_exporter": "python",
   "pygments_lexer": "ipython3",
   "version": "3.7.3"
  }
 },
 "nbformat": 4,
 "nbformat_minor": 2
}
