{
 "cells": [
  {
   "cell_type": "markdown",
   "metadata": {},
   "source": [
    "## - Binary Search Tree (left < root < right)"
   ]
  },
  {
   "cell_type": "code",
   "execution_count": 18,
   "metadata": {},
   "outputs": [],
   "source": [
    "class Node:\n",
    "    def __init__(self, data):\n",
    "        self.left = None\n",
    "        self.right = None\n",
    "        self.data = data\n",
    "        \n",
    "        \n",
    "    # insert method create nodes\n",
    "    def insert(self, data):\n",
    "        # go left\n",
    "        if data < self.data:\n",
    "            if self.left is None:\n",
    "                self.left = Node(data)\n",
    "            else:\n",
    "                self.left.insert(data)\n",
    "        # go right\n",
    "        elif data > self.data:\n",
    "            if self.right is None:\n",
    "                self.right = Node(data)\n",
    "            else:\n",
    "                self.right.insert(data)\n",
    "        # data exists\n",
    "        else:\n",
    "            self.data = data\n",
    "            \n",
    "            \n",
    "    def find_val(self, val):\n",
    "        if val < self.data:\n",
    "            if self.left is None:\n",
    "                print(\"Not Found\")\n",
    "            else:\n",
    "                return self.left.find_val(val)\n",
    "        elif val > self.data:\n",
    "            if self.right is None:\n",
    "                print(\"Not Found\")\n",
    "            else:\n",
    "                return self.right.find_val(val)\n",
    "        else:\n",
    "            print(\"Found\")\n",
    "             \n",
    "        \n",
    "    def traverse(self, root, order):\n",
    "        result = []\n",
    "        \n",
    "        if root:\n",
    "            \n",
    "            # Left -> Root -> Right\n",
    "            if order == 'in':\n",
    "                result = self.traverse(root.left, order)\n",
    "                result.append(root.data)\n",
    "                result += self.traverse(root.right, order)\n",
    "        \n",
    "            # Root -> Left -> Right\n",
    "            elif order == 'pre':\n",
    "                result.append(root.data)\n",
    "                result += self.traverse(root.left, order)\n",
    "                result += self.traverse(root.right, order)\n",
    "            \n",
    "            # Left -> Right -> Root\n",
    "            elif order == 'post':\n",
    "                result = self.traverse(root.left, order)\n",
    "                result += self.traverse(root.right, order)\n",
    "                result.append(root.data)\n",
    "            \n",
    "            else:\n",
    "                print(\"choose order from in/pre/post\")\n",
    "                exit(1)\n",
    "        \n",
    "        return result\n",
    "        \n",
    "        \n",
    "    def find_depth(self, root):\n",
    "        if not root:\n",
    "            return 0\n",
    "        else:\n",
    "            return max(self.find_depth(root.left), self.find_depth(root.right)) + 1"
   ]
  },
  {
   "cell_type": "markdown",
   "metadata": {},
   "source": [
    "### - BST test case and traversal"
   ]
  },
  {
   "cell_type": "code",
   "execution_count": 21,
   "metadata": {},
   "outputs": [
    {
     "name": "stdout",
     "output_type": "stream",
     "text": [
      "Tree depth is: 4\n",
      "Value 7 is Not Found\n",
      "Value 15 is Found\n"
     ]
    }
   ],
   "source": [
    "root = Node(25)\n",
    "\n",
    "values = [15, 50, 10, 22, 35, 70, 4, 12, 18, 24, 31, 44, 66, 90]\n",
    "for val in values:\n",
    "    root.insert(val)\n",
    "    \n",
    "print(\"Tree depth is:\", root.find_depth(root))\n",
    "\n",
    "print(\"Value 7 is \", end=\"\")\n",
    "root.find_val(7)\n",
    "\n",
    "print(\"Value 15 is \", end=\"\")\n",
    "root.find_val(15)"
   ]
  },
  {
   "cell_type": "code",
   "execution_count": 3,
   "metadata": {},
   "outputs": [
    {
     "data": {
      "text/plain": [
       "[4, 10, 12, 15, 18, 22, 24, 25, 31, 35, 44, 50, 66, 70, 90]"
      ]
     },
     "execution_count": 3,
     "metadata": {},
     "output_type": "execute_result"
    }
   ],
   "source": [
    "# in-order\n",
    "root.traverse(root, 'in')"
   ]
  },
  {
   "cell_type": "code",
   "execution_count": 4,
   "metadata": {},
   "outputs": [
    {
     "data": {
      "text/plain": [
       "[25, 15, 10, 4, 12, 22, 18, 24, 50, 35, 31, 44, 70, 66, 90]"
      ]
     },
     "execution_count": 4,
     "metadata": {},
     "output_type": "execute_result"
    }
   ],
   "source": [
    "# pre-order\n",
    "root.traverse(root, 'pre')"
   ]
  },
  {
   "cell_type": "code",
   "execution_count": 5,
   "metadata": {},
   "outputs": [
    {
     "data": {
      "text/plain": [
       "[4, 12, 10, 18, 24, 22, 15, 31, 44, 35, 66, 90, 70, 50, 25]"
      ]
     },
     "execution_count": 5,
     "metadata": {},
     "output_type": "execute_result"
    }
   ],
   "source": [
    "# post-order\n",
    "root.traverse(root, 'post')"
   ]
  },
  {
   "cell_type": "markdown",
   "metadata": {},
   "source": [
    "![Tree example](tree.jpg)"
   ]
  },
  {
   "cell_type": "markdown",
   "metadata": {},
   "source": [
    "### - LCA of BST and BT"
   ]
  },
  {
   "cell_type": "code",
   "execution_count": 6,
   "metadata": {},
   "outputs": [
    {
     "name": "stdout",
     "output_type": "stream",
     "text": [
      "LCA of 12 and 24 in the above graph is: 15\n"
     ]
    }
   ],
   "source": [
    "# find lowest-common-ancestor LCA in binary search tree\n",
    "# make use of the left < root < right property\n",
    "def LCA_BST(root, p, q):\n",
    "    \n",
    "    # both are in the left tree, recursive call\n",
    "    if p.data < root.data and q.data < root.data:\n",
    "        return LCA_BST(root.left, p, q)\n",
    "    \n",
    "    # both are in the right tree\n",
    "    elif p.data > root.data and q.data > root.data:\n",
    "        return LCA_BST(root.right, p, q)\n",
    "    \n",
    "    # one is in the left tree and the other one right, so this node is the LCA\n",
    "    else:\n",
    "        return root\n",
    "\n",
    "    \n",
    "print(\"LCA of 12 and 24 in the above graph is: \", end='')\n",
    "print(LCA_BST(root, Node(12), Node(24)).data)"
   ]
  },
  {
   "cell_type": "code",
   "execution_count": 10,
   "metadata": {},
   "outputs": [
    {
     "name": "stdout",
     "output_type": "stream",
     "text": [
      "LCA of 12 and 24 in the above graph is: 15\n"
     ]
    }
   ],
   "source": [
    "# find LCA in a normal binary tree (assume presence)\n",
    "def LCA_BT(root, p, q):\n",
    "    \n",
    "    # base condition\n",
    "    if not root or root.data == q.data or root.data == p.data:\n",
    "        return root\n",
    "    \n",
    "    # look for value in left and right subtrees \n",
    "    left_lca = LCA_BT(root.left, p, q)  \n",
    "    right_lca = LCA_BT(root.right, p, q)\n",
    "        \n",
    "    # if one is in left and one in right, root is the LCA\n",
    "    if left_lca and right_lca:\n",
    "        return root\n",
    "    \n",
    "    # one of them is None\n",
    "    if left_lca:\n",
    "        return left_lca\n",
    "    else:\n",
    "        return right_lca\n",
    "    \n",
    "    \n",
    "print(\"LCA of 12 and 24 in the above graph is: \", end='')\n",
    "print(LCA_BT(root, Node(12), Node(24)).data)"
   ]
  },
  {
   "cell_type": "markdown",
   "metadata": {},
   "source": [
    "## -Trie (Prefix Tree)"
   ]
  },
  {
   "cell_type": "code",
   "execution_count": 8,
   "metadata": {},
   "outputs": [],
   "source": [
    "class Trie:\n",
    "    \n",
    "    def __init__(self):\n",
    "        self.trie = {}\n",
    "    \n",
    "    \n",
    "    def insert(self, word):\n",
    "        curr = self.trie\n",
    "        \n",
    "        for c in word:\n",
    "            if c not in curr:\n",
    "                curr[c] = {}\n",
    "            curr = curr[c]\n",
    "            \n",
    "        curr['*'] = True\n",
    "        \n",
    "        \n",
    "    def search(self, word):\n",
    "        curr = self.trie\n",
    "        \n",
    "        for c in word:\n",
    "            if c not in curr:\n",
    "                return False\n",
    "            else:\n",
    "                curr = curr[c]\n",
    "                \n",
    "        if '*' in curr and curr['*'] == True:\n",
    "            return True\n",
    "        \n",
    "        return False\n",
    "        \n",
    "        \n",
    "    def startswith(self, prefix):\n",
    "        curr = self.trie\n",
    "        \n",
    "        for c in prefix:\n",
    "            if c not in curr:\n",
    "                return False\n",
    "            else:\n",
    "                curr = curr[c]\n",
    "        return True"
   ]
  },
  {
   "cell_type": "code",
   "execution_count": 9,
   "metadata": {},
   "outputs": [
    {
     "name": "stdout",
     "output_type": "stream",
     "text": [
      "False\n",
      "True\n",
      "True\n"
     ]
    }
   ],
   "source": [
    "trie = Trie()\n",
    "\n",
    "trie.insert('apple')\n",
    "\n",
    "print(trie.search('app'))\n",
    "print(trie.search('apple'))\n",
    "print(trie.startswith('app'))"
   ]
  },
  {
   "cell_type": "code",
   "execution_count": null,
   "metadata": {},
   "outputs": [],
   "source": []
  }
 ],
 "metadata": {
  "kernelspec": {
   "display_name": "Python 3",
   "language": "python",
   "name": "python3"
  },
  "language_info": {
   "codemirror_mode": {
    "name": "ipython",
    "version": 3
   },
   "file_extension": ".py",
   "mimetype": "text/x-python",
   "name": "python",
   "nbconvert_exporter": "python",
   "pygments_lexer": "ipython3",
   "version": "3.7.3"
  }
 },
 "nbformat": 4,
 "nbformat_minor": 2
}
