{
 "cells": [
  {
   "cell_type": "code",
   "execution_count": 1,
   "metadata": {},
   "outputs": [],
   "source": [
    "# this class represents a directed graph using adjacency list\n",
    "from collections import defaultdict\n",
    "\n",
    "class Graph:\n",
    "    def __init__(self):\n",
    "        self.graph = defaultdict(list)\n",
    "        \n",
    "        \n",
    "    def add_edge(self, u, v):\n",
    "        self.graph[u].append(v)\n",
    "    \n",
    "    \n",
    "    # print BFS traversal from a given source vertex\n",
    "    def BFS(self, s):\n",
    "\n",
    "        # record visited nodes\n",
    "        visited = set()\n",
    "        visited.add(s)\n",
    "        \n",
    "        # init a queue for BFS with source node\n",
    "        queue = [s]\n",
    "\n",
    "        while queue:\n",
    "\n",
    "            # dequeue a vertex and print it\n",
    "            v = queue.pop(0)\n",
    "            print(v, end=\" \")\n",
    "            \n",
    "            # get the adj vertices\n",
    "            # if not visited, mark and enqueue it\n",
    "            for neighbour in self.graph[v]:\n",
    "                if neighbour not in visited:\n",
    "                    queue.append(neighbour)\n",
    "                    visited.add(neighbour)\n",
    "    \n",
    "    \n",
    "    # print DFS traversal from a given source vertex\n",
    "    def DFS(self, s, visited=None):\n",
    "        if not visited:\n",
    "            visited = set()\n",
    "        visited.add(s)\n",
    "        print(s, end=\" \")\n",
    "        \n",
    "        for neighbour in self.graph[s]:\n",
    "            if neighbour not in visited:\n",
    "                self.DFS(neighbour, visited)\n",
    "\n",
    "                \n",
    "    # a recursive function used by topo_sort\n",
    "    def topo_visit(self, v, visited, sort_list):\n",
    "        visited.add(v)\n",
    "        \n",
    "        for i in self.graph[v]:\n",
    "            if i not in visited:\n",
    "                self.topo_visit(i, visited, sort_list)\n",
    "        \n",
    "        # on the recursive callback, add the current node in reverse order\n",
    "        sort_list.insert(0, v)\n",
    "                \n",
    "\n",
    "    # topological sort (directed acyclic graph)\n",
    "    # for every directed edge ab, vertex a should visit before b\n",
    "    def topo_sort(self):\n",
    "        visited = set()\n",
    "        sort_list = []\n",
    "        \n",
    "        # similar to a DFS, explore only unvisited nodes\n",
    "        for v in list(self.graph.keys()):\n",
    "            if v not in visited:\n",
    "                self.topo_visit(v, visited, sort_list)\n",
    "        \n",
    "        print(sort_list)\n",
    "        \n",
    "        \n",
    "    def is_cyclic_util(self, v, visited, recur_stack):\n",
    "        visited.add(v)\n",
    "        recur_stack.append(v)\n",
    "        \n",
    "        for i in self.graph[v]:\n",
    "            if i not in visited:\n",
    "                if self.is_cyclic_util(i, visited, recur_stack):\n",
    "                    return True\n",
    "            elif i in recur_stack:\n",
    "                return True\n",
    "        \n",
    "        recur_stack.pop()\n",
    "        return False\n",
    "    \n",
    "    \n",
    "    # look for backedge\n",
    "    def is_cyclic(self):\n",
    "        visited = set()\n",
    "        recursive_stack = []\n",
    "        for v in list(self.graph.keys()):\n",
    "            if v not in visited:\n",
    "                if self.is_cyclic_util(v, visited, recursive_stack):\n",
    "                    return True\n",
    "        return False"
   ]
  },
  {
   "cell_type": "markdown",
   "metadata": {},
   "source": [
    "Example graph: \n",
    "\n",
    "![graph example](graph.png)"
   ]
  },
  {
   "cell_type": "code",
   "execution_count": 2,
   "metadata": {},
   "outputs": [],
   "source": [
    "g = Graph() \n",
    "g.add_edge(5, 2); \n",
    "g.add_edge(5, 0); \n",
    "g.add_edge(4, 0); \n",
    "g.add_edge(4, 1); \n",
    "g.add_edge(2, 3); \n",
    "g.add_edge(3, 1); "
   ]
  },
  {
   "cell_type": "code",
   "execution_count": 3,
   "metadata": {},
   "outputs": [
    {
     "name": "stdout",
     "output_type": "stream",
     "text": [
      "Following is the BFS starting from vertex 5: \n",
      "5 2 0 3 1 "
     ]
    }
   ],
   "source": [
    "print(\"Following is the BFS starting from vertex 5: \")\n",
    "g.BFS(5)"
   ]
  },
  {
   "cell_type": "code",
   "execution_count": 4,
   "metadata": {},
   "outputs": [
    {
     "name": "stdout",
     "output_type": "stream",
     "text": [
      "Following is the DFS starting from vertex 5: \n",
      "5 2 3 1 0 "
     ]
    }
   ],
   "source": [
    "print(\"Following is the DFS starting from vertex 5: \")\n",
    "g.DFS(5)"
   ]
  },
  {
   "cell_type": "code",
   "execution_count": 5,
   "metadata": {},
   "outputs": [
    {
     "name": "stdout",
     "output_type": "stream",
     "text": [
      "Topological sort\n",
      "[4, 5, 0, 2, 3, 1]\n"
     ]
    }
   ],
   "source": [
    "# topological sort is not unique\n",
    "print(\"Topological sort\")\n",
    "g.topo_sort() "
   ]
  },
  {
   "cell_type": "code",
   "execution_count": 6,
   "metadata": {},
   "outputs": [
    {
     "name": "stdout",
     "output_type": "stream",
     "text": [
      "Graph is cyclic:  False\n",
      "Graph is cyclic after adding edge 3->5:  True\n"
     ]
    }
   ],
   "source": [
    "# check for cycle\n",
    "print(\"Graph is cyclic: \", g.is_cyclic())\n",
    "\n",
    "# make this graph cyclic\n",
    "g.add_edge(3, 5)\n",
    "print(\"Graph is cyclic after adding edge 3->5: \", g.is_cyclic())"
   ]
  },
  {
   "cell_type": "code",
   "execution_count": null,
   "metadata": {},
   "outputs": [],
   "source": []
  }
 ],
 "metadata": {
  "kernelspec": {
   "display_name": "Python 3",
   "language": "python",
   "name": "python3"
  },
  "language_info": {
   "codemirror_mode": {
    "name": "ipython",
    "version": 3
   },
   "file_extension": ".py",
   "mimetype": "text/x-python",
   "name": "python",
   "nbconvert_exporter": "python",
   "pygments_lexer": "ipython3",
   "version": "3.7.3"
  }
 },
 "nbformat": 4,
 "nbformat_minor": 2
}
