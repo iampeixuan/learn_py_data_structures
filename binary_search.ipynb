{
 "cells": [
  {
   "cell_type": "markdown",
   "metadata": {},
   "source": [
    "## - Search sorted array\n",
    "\n",
    "T(n) = T(n/2) + 1 -> O(lgn)"
   ]
  },
  {
   "cell_type": "code",
   "execution_count": 1,
   "metadata": {},
   "outputs": [],
   "source": [
    "# Recursive implementation \n",
    "def binary_search_rec(nums, target, low, high):\n",
    "    if low > high:\n",
    "        return -1\n",
    "    \n",
    "    middle = low + (high - low) // 2\n",
    "    \n",
    "    if target == nums[middle]:\n",
    "        return middle\n",
    "    \n",
    "    if target < nums[middle]:\n",
    "        return binary_search_rec(nums, target, low, middle-1)\n",
    "    else:\n",
    "        return binary_search_rec(nums, target, middle+1, high)\n",
    "\n",
    "    \n",
    "# Iterative implementation\n",
    "def binary_search_itr(nums, target, low, high):\n",
    "    while low <= high:\n",
    "        middle = low + (high - low) // 2\n",
    "        \n",
    "        if target == nums[middle]:\n",
    "            return middle\n",
    "        \n",
    "        if target < nums[middle]:\n",
    "            high = middle - 1\n",
    "        else:\n",
    "            low = middle + 1\n",
    "    \n",
    "    return -1"
   ]
  },
  {
   "cell_type": "code",
   "execution_count": 2,
   "metadata": {},
   "outputs": [
    {
     "name": "stdout",
     "output_type": "stream",
     "text": [
      "Element is present at index 6\n"
     ]
    }
   ],
   "source": [
    "arr = [1, 2, 3, 4, 10, 40, 100] \n",
    "tar = 100\n",
    "  \n",
    "result = binary_search_rec(arr, tar, 0, len(arr)-1) \n",
    "  \n",
    "if result != -1: \n",
    "    print(\"Element is present at index {}\".format(result))\n",
    "else: \n",
    "    print(\"Element is not present in array\")"
   ]
  },
  {
   "cell_type": "markdown",
   "metadata": {},
   "source": [
    "## - Search rotated sorted array"
   ]
  },
  {
   "cell_type": "code",
   "execution_count": 3,
   "metadata": {},
   "outputs": [],
   "source": [
    "def search_rotated(nums, target):\n",
    "    if not nums:\n",
    "        return -1\n",
    "    \n",
    "    low = 0\n",
    "    high = len(nums) - 1\n",
    "    \n",
    "    while low <= high:\n",
    "        middle = low + (high - low) // 2\n",
    "        \n",
    "        if nums[middle] == target:\n",
    "            return middle\n",
    "        \n",
    "        # left side is sorted\n",
    "        if nums[low] <= nums[middle]:\n",
    "            # see if left side contains the target, search left if so\n",
    "            if nums[low] <= target < nums[middle]:\n",
    "                if nums[low] == target:\n",
    "                    return low\n",
    "                high = middle - 1\n",
    "            else:\n",
    "                low = middle + 1\n",
    "        \n",
    "        # right side is sorted\n",
    "        else:\n",
    "            if nums[middle] < target <= nums[high]:\n",
    "                if nums[high] == target:\n",
    "                    return high\n",
    "                low = middle + 1\n",
    "            else:\n",
    "                high = middle - 1\n",
    "    \n",
    "    return -1"
   ]
  },
  {
   "cell_type": "code",
   "execution_count": 4,
   "metadata": {},
   "outputs": [
    {
     "name": "stdout",
     "output_type": "stream",
     "text": [
      "0 is at index 4\n"
     ]
    }
   ],
   "source": [
    "arr = [4, 5, 6, 7, 0, 1, 2] \n",
    "tar = 0\n",
    "\n",
    "index = search_rotated(arr, tar)\n",
    "\n",
    "print(\"{} is at index {}\".format(tar, index))"
   ]
  },
  {
   "cell_type": "markdown",
   "metadata": {},
   "source": [
    "## Min of rotated sorted array"
   ]
  },
  {
   "cell_type": "code",
   "execution_count": 5,
   "metadata": {},
   "outputs": [],
   "source": [
    "def find_rotated_min(nums):\n",
    "    if not nums:\n",
    "        return -1\n",
    "    \n",
    "    low = 0\n",
    "    high = len(nums) - 1\n",
    "    \n",
    "    # notice no equal here, because the assignment \"high = middle\"\n",
    "    while low < high:\n",
    "        middle = low + (high - low) // 2\n",
    "        \n",
    "        # right side is sorted, go left to find min/pivot\n",
    "        if nums[middle] <= nums[high]:\n",
    "            high = middle\n",
    "        \n",
    "        # left side is sorted, go right to find pivot\n",
    "        else:\n",
    "            low = middle + 1\n",
    "    \n",
    "    return nums[low]"
   ]
  },
  {
   "cell_type": "code",
   "execution_count": 6,
   "metadata": {},
   "outputs": [
    {
     "name": "stdout",
     "output_type": "stream",
     "text": [
      "min value of array is 0\n"
     ]
    }
   ],
   "source": [
    "arr = [4, 5, 6, 7, 0, 1, 2] \n",
    "min_val = find_rotated_min(arr)\n",
    "\n",
    "print(\"min value of array is {}\".format(min_val))"
   ]
  },
  {
   "cell_type": "markdown",
   "metadata": {},
   "source": [
    "## - Search for first and last position of element in sorted array (count occurence of element)"
   ]
  },
  {
   "cell_type": "code",
   "execution_count": 7,
   "metadata": {},
   "outputs": [],
   "source": [
    " def search_range(nums, target):\n",
    "        start = -1\n",
    "        end = -1\n",
    "        \n",
    "        # search for first occurence\n",
    "        low = 0\n",
    "        high = len(nums) - 1\n",
    "        while low <= high:\n",
    "            middle = low + (high - low) // 2\n",
    "            \n",
    "            # element to the left has to be smaller\n",
    "            if nums[middle] == target and (middle == 0 or nums[middle-1] < target):\n",
    "                start = middle\n",
    "                break\n",
    "            \n",
    "            # in case of equal, adjust high to look for first occurence\n",
    "            if nums[middle] >= target:\n",
    "                high = middle - 1\n",
    "            else:\n",
    "                low = middle + 1\n",
    "                \n",
    "        \n",
    "        # search for last occurence\n",
    "        low = 0\n",
    "        high = len(nums) - 1\n",
    "        while low <= high:\n",
    "            middle = low + (high - low) // 2\n",
    "            \n",
    "            # element to the right has to be larger\n",
    "            if nums[middle] == target and (middle == (len(nums)-1) or nums[middle+1] > target):\n",
    "                end = middle\n",
    "                break\n",
    "            \n",
    "            # in case of equal, adjust low to look for the last occurence\n",
    "            if nums[middle] > target:\n",
    "                high = middle - 1\n",
    "            else:\n",
    "                low = middle + 1\n",
    "                \n",
    "        return [start, end]"
   ]
  },
  {
   "cell_type": "code",
   "execution_count": 8,
   "metadata": {},
   "outputs": [
    {
     "name": "stdout",
     "output_type": "stream",
     "text": [
      "Element occurs at index [4, 8], 5 times\n"
     ]
    }
   ],
   "source": [
    "arr = [1, 2, 3, 4, 10, 10, 10, 10, 10, 40, 100] \n",
    "tar = 10\n",
    "  \n",
    "[first, last] = search_range(arr, tar) \n",
    "  \n",
    "if first == -1 and last == -1:\n",
    "    print(\"Element is not present in array\")\n",
    "else: \n",
    "    print(\"Element occurs at index [{}, {}], {} times\".format(first, last, last-first+1))"
   ]
  },
  {
   "cell_type": "code",
   "execution_count": null,
   "metadata": {},
   "outputs": [],
   "source": []
  }
 ],
 "metadata": {
  "kernelspec": {
   "display_name": "Python 3",
   "language": "python",
   "name": "python3"
  },
  "language_info": {
   "codemirror_mode": {
    "name": "ipython",
    "version": 3
   },
   "file_extension": ".py",
   "mimetype": "text/x-python",
   "name": "python",
   "nbconvert_exporter": "python",
   "pygments_lexer": "ipython3",
   "version": "3.7.3"
  }
 },
 "nbformat": 4,
 "nbformat_minor": 2
}
