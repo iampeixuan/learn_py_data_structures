{
 "cells": [
  {
   "cell_type": "markdown",
   "metadata": {},
   "source": [
    "## Dynamic Programming"
   ]
  },
  {
   "cell_type": "markdown",
   "metadata": {},
   "source": [
    "## - Fibonacci"
   ]
  },
  {
   "cell_type": "code",
   "execution_count": 1,
   "metadata": {},
   "outputs": [],
   "source": [
    "# O(2^n) time\n",
    "def fib(n): \n",
    "    if n == 1 or n == 2:\n",
    "        return 1\n",
    "    else:\n",
    "        return fib(n-1) + fib(n-2)\n",
    "\n",
    "# Memoization, O(n) time\n",
    "def fib_memo(n):\n",
    "    memo = [None] * (n + 1)\n",
    "    \n",
    "    def fib_memo_util(n, memo):\n",
    "        if memo[n]:\n",
    "            return memo[n]\n",
    "        else:\n",
    "            if n == 1 or n == 2:\n",
    "                result = 1\n",
    "            else:\n",
    "                result = fib_memo_util(n-1, memo) + fib_memo_util(n-2, memo)\n",
    "            memo[n] = result\n",
    "            return result\n",
    "    \n",
    "    return fib_memo_util(n, memo)\n",
    "\n",
    "# non-recursive bottom_up approach, reduce space to O(1)\n",
    "def fib_bottom_up(n):\n",
    "    if n == 1 or n == 2:\n",
    "        return 1\n",
    "    else:\n",
    "        fib_pre1 = 1\n",
    "        fib_pre2 = 1\n",
    "        \n",
    "        for i in range(3, n+1):\n",
    "            fib_n = fib_pre1 + fib_pre2\n",
    "            fib_pre2 = fib_pre1\n",
    "            fib_pre1 = fib_n\n",
    "        \n",
    "        return fib_n"
   ]
  },
  {
   "cell_type": "code",
   "execution_count": 2,
   "metadata": {},
   "outputs": [
    {
     "name": "stdout",
     "output_type": "stream",
     "text": [
      "100 µs ± 750 ns per loop (mean ± std. dev. of 7 runs, 10000 loops each)\n"
     ]
    }
   ],
   "source": [
    "%timeit fib(15)"
   ]
  },
  {
   "cell_type": "code",
   "execution_count": 3,
   "metadata": {},
   "outputs": [
    {
     "name": "stdout",
     "output_type": "stream",
     "text": [
      "3.44 µs ± 92.9 ns per loop (mean ± std. dev. of 7 runs, 100000 loops each)\n"
     ]
    }
   ],
   "source": [
    "%timeit fib_memo(15)"
   ]
  },
  {
   "cell_type": "code",
   "execution_count": 4,
   "metadata": {},
   "outputs": [
    {
     "name": "stdout",
     "output_type": "stream",
     "text": [
      "594 ns ± 6.55 ns per loop (mean ± std. dev. of 7 runs, 1000000 loops each)\n"
     ]
    }
   ],
   "source": [
    "%timeit fib_bottom_up(15)"
   ]
  },
  {
   "cell_type": "code",
   "execution_count": 5,
   "metadata": {},
   "outputs": [
    {
     "data": {
      "text/plain": [
       "5"
      ]
     },
     "execution_count": 5,
     "metadata": {},
     "output_type": "execute_result"
    }
   ],
   "source": [
    "# Climb Stairs\n",
    "# How many distinct ways can you climb to the top (n), when each time you can either climb 1 or 2 steps?\n",
    "def climb_stairs(n):\n",
    "    # base cases:\n",
    "    if n == 0:\n",
    "        return 1\n",
    "    elif n == 1:\n",
    "        return 1\n",
    "    \n",
    "    # bottom up\n",
    "    else:\n",
    "        prev1 = 1\n",
    "        prev2 = 1\n",
    "        for i in range(2, n + 1):\n",
    "            curr = prev1 + prev2\n",
    "            prev2 = prev1\n",
    "            prev1 = curr\n",
    "        return curr\n",
    "    \n",
    "climb_stairs(4)"
   ]
  },
  {
   "cell_type": "code",
   "execution_count": 6,
   "metadata": {},
   "outputs": [
    {
     "data": {
      "text/plain": [
       "3"
      ]
     },
     "execution_count": 6,
     "metadata": {},
     "output_type": "execute_result"
    }
   ],
   "source": [
    "# House Robber (no robbing of consecutive houses)\n",
    "def rob(nums) :\n",
    "    if not nums or len(nums) == 0:\n",
    "        return 0\n",
    "    elif len(nums) == 1:\n",
    "        return nums[0]\n",
    "    elif len(nums) == 2:\n",
    "        return max(nums)\n",
    "\n",
    "    else:\n",
    "        prev2 = nums[0]\n",
    "        prev1 = max(nums[0], nums[1])\n",
    "\n",
    "        for i in range(2, len(nums)):\n",
    "            curr = max(prev2 + nums[i], prev1)\n",
    "            prev2 = prev1\n",
    "            prev1 = curr\n",
    "        \n",
    "        return curr\n",
    "    \n",
    "rob([1,1,1,2])\n",
    "\n",
    "# modification: circular houses\n",
    "# just take max from rob(nums[1:]) and rob(nums[:n-1])"
   ]
  },
  {
   "cell_type": "code",
   "execution_count": 7,
   "metadata": {},
   "outputs": [],
   "source": [
    "# Other questions: \n",
    "# cows giving birth: dp[i] = dp[i-1] + dp[i-3]\n",
    "# derangement: n letter -> N letter box, dp[i] = (i-1)(dp[i-2]+dp[i-1]) when (n>2)"
   ]
  },
  {
   "cell_type": "code",
   "execution_count": null,
   "metadata": {},
   "outputs": [],
   "source": []
  }
 ],
 "metadata": {
  "kernelspec": {
   "display_name": "Python 3",
   "language": "python",
   "name": "python3"
  },
  "language_info": {
   "codemirror_mode": {
    "name": "ipython",
    "version": 3
   },
   "file_extension": ".py",
   "mimetype": "text/x-python",
   "name": "python",
   "nbconvert_exporter": "python",
   "pygments_lexer": "ipython3",
   "version": "3.7.3"
  }
 },
 "nbformat": 4,
 "nbformat_minor": 2
}
