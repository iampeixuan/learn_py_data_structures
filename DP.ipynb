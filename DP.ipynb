{
 "cells": [
  {
   "cell_type": "markdown",
   "metadata": {},
   "source": [
    "## Dynamic Programming"
   ]
  },
  {
   "cell_type": "markdown",
   "metadata": {},
   "source": [
    "## - Fibonacci"
   ]
  },
  {
   "cell_type": "code",
   "execution_count": 1,
   "metadata": {},
   "outputs": [],
   "source": [
    "# O(2^n) time\n",
    "def fib(n): \n",
    "    if n == 1 or n == 2:\n",
    "        return 1\n",
    "    else:\n",
    "        return fib(n-1) + fib(n-2)\n",
    "\n",
    "# Memoization, O(n) time\n",
    "def fib_memo(n):\n",
    "    memo = [None] * (n + 1)\n",
    "    \n",
    "    def fib_memo_util(n, memo):\n",
    "        if memo[n]:\n",
    "            return memo[n]\n",
    "        else:\n",
    "            if n == 1 or n == 2:\n",
    "                result = 1\n",
    "            else:\n",
    "                result = fib_memo_util(n-1, memo) + fib_memo_util(n-2, memo)\n",
    "            memo[n] = result\n",
    "            return result\n",
    "    \n",
    "    return fib_memo_util(n, memo)\n",
    "\n",
    "# non-recursive bottom_up approach, reduce space to O(1)\n",
    "def fib_bottom_up(n):\n",
    "    if n == 1 or n == 2:\n",
    "        return 1\n",
    "    else:\n",
    "        fib_pre1 = 1\n",
    "        fib_pre2 = 1\n",
    "        \n",
    "        for i in range(3, n+1):\n",
    "            fib_n = fib_pre1 + fib_pre2\n",
    "            fib_pre2 = fib_pre1\n",
    "            fib_pre1 = fib_n\n",
    "        \n",
    "        return fib_n"
   ]
  },
  {
   "cell_type": "code",
   "execution_count": 2,
   "metadata": {},
   "outputs": [
    {
     "name": "stdout",
     "output_type": "stream",
     "text": [
      "100 µs ± 750 ns per loop (mean ± std. dev. of 7 runs, 10000 loops each)\n"
     ]
    }
   ],
   "source": [
    "%timeit fib(15)"
   ]
  },
  {
   "cell_type": "code",
   "execution_count": 3,
   "metadata": {},
   "outputs": [
    {
     "name": "stdout",
     "output_type": "stream",
     "text": [
      "3.44 µs ± 92.9 ns per loop (mean ± std. dev. of 7 runs, 100000 loops each)\n"
     ]
    }
   ],
   "source": [
    "%timeit fib_memo(15)"
   ]
  },
  {
   "cell_type": "code",
   "execution_count": 4,
   "metadata": {},
   "outputs": [
    {
     "name": "stdout",
     "output_type": "stream",
     "text": [
      "594 ns ± 6.55 ns per loop (mean ± std. dev. of 7 runs, 1000000 loops each)\n"
     ]
    }
   ],
   "source": [
    "%timeit fib_bottom_up(15)"
   ]
  },
  {
   "cell_type": "code",
   "execution_count": 5,
   "metadata": {},
   "outputs": [
    {
     "data": {
      "text/plain": [
       "5"
      ]
     },
     "execution_count": 5,
     "metadata": {},
     "output_type": "execute_result"
    }
   ],
   "source": [
    "# Climb Stairs\n",
    "# How many distinct ways can you climb to the top (n), when each time you can either climb 1 or 2 steps?\n",
    "def climb_stairs(n):\n",
    "    # base cases:\n",
    "    if n == 0:\n",
    "        return 1\n",
    "    elif n == 1:\n",
    "        return 1\n",
    "    \n",
    "    # bottom up\n",
    "    else:\n",
    "        prev1 = 1\n",
    "        prev2 = 1\n",
    "        for i in range(2, n + 1):\n",
    "            curr = prev1 + prev2\n",
    "            prev2 = prev1\n",
    "            prev1 = curr\n",
    "        return curr\n",
    "    \n",
    "climb_stairs(4)"
   ]
  },
  {
   "cell_type": "code",
   "execution_count": 6,
   "metadata": {},
   "outputs": [
    {
     "data": {
      "text/plain": [
       "3"
      ]
     },
     "execution_count": 6,
     "metadata": {},
     "output_type": "execute_result"
    }
   ],
   "source": [
    "# House Robber (no robbing of consecutive houses)\n",
    "def rob(nums) :\n",
    "    if not nums or len(nums) == 0:\n",
    "        return 0\n",
    "    elif len(nums) == 1:\n",
    "        return nums[0]\n",
    "    elif len(nums) == 2:\n",
    "        return max(nums)\n",
    "\n",
    "    else:\n",
    "        prev2 = nums[0]\n",
    "        prev1 = max(nums[0], nums[1])\n",
    "\n",
    "        for i in range(2, len(nums)):\n",
    "            curr = max(prev2 + nums[i], prev1)\n",
    "            prev2 = prev1\n",
    "            prev1 = curr\n",
    "        \n",
    "        return curr\n",
    "    \n",
    "rob([1,1,1,2])\n",
    "\n",
    "# modification: circular houses\n",
    "# just take max from rob(nums[1:]) and rob(nums[:n-1])"
   ]
  },
  {
   "cell_type": "code",
   "execution_count": 7,
   "metadata": {},
   "outputs": [],
   "source": [
    "# Other questions: \n",
    "# cows giving birth: dp[i] = dp[i-1] + dp[i-3]\n",
    "# derangement: n letter -> N letter box, dp[i] = (i-1)(dp[i-2]+dp[i-1]) when (n>2)"
   ]
  },
  {
   "cell_type": "markdown",
   "metadata": {},
   "source": [
    "## - 0/1 Knapsack\n",
    "Select a set of most valuable items within given weight constraints. \n",
    "Complete search - O(2^n)"
   ]
  },
  {
   "cell_type": "code",
   "execution_count": 51,
   "metadata": {},
   "outputs": [
    {
     "data": {
      "text/plain": [
       "220"
      ]
     },
     "execution_count": 51,
     "metadata": {},
     "output_type": "execute_result"
    }
   ],
   "source": [
    "# assume weights are positive integers\n",
    "def knapsack(max_weight, weights, values):\n",
    "    # consider 0 max_weight in the dp matrix\n",
    "    # add in a dummy item with 0 weight& value\n",
    "    num_items = len(weights)\n",
    "    dp_mat = [[0 for _ in range(max_weight + 1)] for _ in range(num_items + 1)]\n",
    "    \n",
    "    # go through every item, build up the dp table\n",
    "    for i in range(1, num_items+1):\n",
    "        weight = weights[i-1]\n",
    "        value = values[i-1]\n",
    "        \n",
    "        # go throughe every max_weight configuration\n",
    "        for j in range(1, max_weight+1):\n",
    "            \n",
    "            # if not able to take item, take whatever available from above row\n",
    "            if j < weight:\n",
    "                dp_mat[i][j] = dp_mat[i-1][j]\n",
    "            \n",
    "            # taking the item means bearing the weight\n",
    "            # compare not taking the item with taking the item\n",
    "            else:\n",
    "                dp_mat[i][j] = max(dp_mat[i-1][j], dp_mat[i-1][j-weight]+value)\n",
    "    \n",
    "    #for row in dp_mat: \n",
    "    #    print(row)\n",
    "        \n",
    "    return dp_mat[num_items][max_weight]\n",
    "\n",
    "knapsack(5, [1, 2, 3], [60, 100, 120])"
   ]
  },
  {
   "cell_type": "code",
   "execution_count": 53,
   "metadata": {},
   "outputs": [
    {
     "data": {
      "text/plain": [
       "220"
      ]
     },
     "execution_count": 53,
     "metadata": {},
     "output_type": "execute_result"
    }
   ],
   "source": [
    "# space-optimized version, notice the reverse\n",
    "def knapsack_opt(max_weight, weights, values):\n",
    "    dp = [0 for _ in range(max_weight+1)]\n",
    "    \n",
    "    for i in range(1, len(values)+1):\n",
    "        weight = weights[i-1]\n",
    "        value = values[i-1]\n",
    "        \n",
    "        for j in range(max_weight, 0, -1):\n",
    "            if j >= weight:\n",
    "                dp[j] = max(dp[j], dp[j-weight]+value)\n",
    "\n",
    "    return dp[max_weight]\n",
    "\n",
    "knapsack_opt(5, [1, 2, 3], [60, 100, 120])"
   ]
  },
  {
   "cell_type": "code",
   "execution_count": 74,
   "metadata": {},
   "outputs": [],
   "source": [
    "# find if the array can be partitioned into two subsets with equal sum\n",
    "def can_partition(nums):\n",
    "    nums_sum = sum(nums)\n",
    "    if nums_sum % 2 != 0:\n",
    "        return False\n",
    "    else:\n",
    "        max_weight = nums_sum // 2\n",
    "        \n",
    "        # dp[i] - are we able to take some elements from \n",
    "        #         the input list that sum to i (T/F)\n",
    "        dp = [True] + [False] * max_weight\n",
    "        \n",
    "        for num in nums:\n",
    "            \n",
    "            # go reverse form max_weight to num \n",
    "            # or everything will become true if there is a 1 in the input \n",
    "            for i in range(max_weight, num-1, -1):\n",
    "                # if dp[i-nums] already can sum to i-num,\n",
    "                # then dp[i] is definitely True as well \n",
    "                dp[i] = dp[i] | dp[i - num]\n",
    "        \n",
    "        return dp[max_weight]"
   ]
  },
  {
   "cell_type": "code",
   "execution_count": 73,
   "metadata": {},
   "outputs": [
    {
     "data": {
      "text/plain": [
       "True"
      ]
     },
     "execution_count": 73,
     "metadata": {},
     "output_type": "execute_result"
    }
   ],
   "source": [
    "can_partition([1,5,5,11])"
   ]
  },
  {
   "cell_type": "markdown",
   "metadata": {},
   "source": [
    "## - Coin Change"
   ]
  },
  {
   "cell_type": "code",
   "execution_count": 3,
   "metadata": {},
   "outputs": [],
   "source": [
    "# the fewest number of coins to make up the amount\n",
    "# dp array: min # coins using 1/2/5 as the last coin\n",
    "def min_coins(coins, amount):\n",
    "    # 0 amount has 0 ways, init rest of the array with an invalid num\n",
    "    dp = [0] + [amount + 1] * amount\n",
    "    \n",
    "    for a in range(1, amount + 1):\n",
    "        for c in coins:\n",
    "            if c <= a:\n",
    "                # 1 means taking this coin c, from c amount away\n",
    "                dp[a] = min(dp[a], dp[a - c] + 1)\n",
    "    if dp[amount] < (amount + 1):\n",
    "        return dp[amount]\n",
    "    else:\n",
    "        return -1"
   ]
  },
  {
   "cell_type": "code",
   "execution_count": 5,
   "metadata": {},
   "outputs": [
    {
     "data": {
      "text/plain": [
       "3"
      ]
     },
     "execution_count": 5,
     "metadata": {},
     "output_type": "execute_result"
    }
   ],
   "source": [
    "min_coins([1,2,5], 11)  # 5 + 5 + 1"
   ]
  },
  {
   "cell_type": "code",
   "execution_count": 6,
   "metadata": {},
   "outputs": [],
   "source": [
    "# the total number of ways to make up the amount\n",
    "def num_ways(coins, amount):\n",
    "    # dp[0] is 1 because 0 amount can be made up in one way - 0 coins\n",
    "    dp = [1] + [0] * amount\n",
    "    \n",
    "    for c in coins:\n",
    "        for a in range(c, amount + 1):\n",
    "            # get from the row above, and add the ways using the new icon\n",
    "            # similar to knapsack problem\n",
    "            dp[a] += dp[a-c]\n",
    "    \n",
    "    return dp[amount]"
   ]
  },
  {
   "cell_type": "code",
   "execution_count": 8,
   "metadata": {},
   "outputs": [
    {
     "data": {
      "text/plain": [
       "4"
      ]
     },
     "execution_count": 8,
     "metadata": {},
     "output_type": "execute_result"
    }
   ],
   "source": [
    "num_ways([1,2,5], 5)  # 11111, 1112, 122, 5"
   ]
  },
  {
   "cell_type": "markdown",
   "metadata": {},
   "source": [
    "## - Best time to buy and sell stock\n",
    "Given an array for which the ith element is the price of a given stock on day i. Find max profit. (must sell the stock before buying again)"
   ]
  },
  {
   "cell_type": "code",
   "execution_count": 18,
   "metadata": {},
   "outputs": [],
   "source": [
    "# 1. only at most one transaction (buy one and sell one share)\n",
    "# non-dp way, one-pass solution, maintain two variable\n",
    "def max_profit_1(prices):\n",
    "    if len(prices) <= 1:\n",
    "        return 0\n",
    "    else:  \n",
    "        # maintain two values\n",
    "        max_profit = 0\n",
    "        lowest_price = prices[0]\n",
    "        \n",
    "        # update lowest and max_profit seen so far\n",
    "        for price in prices[1:]:\n",
    "            if price < lowest_price:\n",
    "                lowest_price = price\n",
    "            elif price - lowest_price > max_profit:\n",
    "                max_profit = price - lowest_price\n",
    "        \n",
    "        return max_profit"
   ]
  },
  {
   "cell_type": "code",
   "execution_count": 15,
   "metadata": {},
   "outputs": [
    {
     "data": {
      "text/plain": [
       "5"
      ]
     },
     "execution_count": 15,
     "metadata": {},
     "output_type": "execute_result"
    }
   ],
   "source": [
    "max_profit_1([7,1,5,3,6,4])   # 6-1=5"
   ]
  },
  {
   "cell_type": "code",
   "execution_count": 16,
   "metadata": {},
   "outputs": [],
   "source": [
    "# 2. allow multiple transactions (buy and sell multiple times)\n",
    "# non-dp way, one-pass solution, since multiple transaction allowed,\n",
    "# keep on adding the profit from every consecutive transaction\n",
    "def max_profit_2(prices):\n",
    "    max_profit = 0\n",
    "    \n",
    "    for i in range(1, len(prices)):\n",
    "        if prices[i] > prices[i-1]:\n",
    "            max_profit += prices[i] - prices[i-1]\n",
    "    \n",
    "    return max_profit"
   ]
  },
  {
   "cell_type": "code",
   "execution_count": 17,
   "metadata": {},
   "outputs": [
    {
     "data": {
      "text/plain": [
       "7"
      ]
     },
     "execution_count": 17,
     "metadata": {},
     "output_type": "execute_result"
    }
   ],
   "source": [
    "max_profit_2([7,1,5,3,6,4])  # (5-1) + (6-3) = 7"
   ]
  },
  {
   "cell_type": "code",
   "execution_count": 40,
   "metadata": {},
   "outputs": [],
   "source": [
    "# 3. at most k transactions\n",
    "\"\"\" \n",
    "3 variables to take care of:\n",
    "  - which day \n",
    "  - # transactions completed\n",
    "  - whether has stock on hand\n",
    "Depending on \"whether has stock on hand\", we define two 2d dp array:\n",
    "  - dp0[i][j]: max profit at the end of ith day, j transactions completed, no stock on hand\n",
    "  - dp1[i][j]: max profit at the end of ith day, j transactions completed, with stock on hand\n",
    "dp0 is initialized to 0, dp1 is initialized to -price[i]. \n",
    "dp0[n-1][k] is the solution we want, with k transactions allowed and completed.\n",
    "Initial states: (i == 0 or j == 0)\n",
    "    when i == 0 and j >= 0: \n",
    "      - dp0[0][j] = 0\n",
    "      - dp1[0][j] = -prices[0]\n",
    "    when i > 0 and j == 0:\n",
    "      - dp0[i][0] = 0\n",
    "      - dp1[i][0] = max(dp[i-1][0], -prices[i])\n",
    "State transition:\n",
    "  - dp0[i][j] = max(dp0[i-1][j], dp1[i-1][j-1] + prices[i])  (rest, or sell)\n",
    "  - dp1[i][j] = max(dp1[i-1][j], dp0[i-1][j] - prices[i])  (rest, or buy in)\n",
    "(if processing fee is required, substract fee when sell)\n",
    "\"\"\"\n",
    "\n",
    "def max_profit_3(prices, k):\n",
    "    # when k is big, same as multiple transactions (no restriction)\n",
    "    n = len(prices)\n",
    "    if k >= len(prices)//2:\n",
    "        return max_profit_2(prices)\n",
    "    \n",
    "    dp0 = [[0] * (k+1) for _ in range(n)]\n",
    "    dp1 = [[0] * (k+1) for _ in range(n)]\n",
    "\n",
    "    for j in range(k+1):\n",
    "        dp1[0][j] = -prices[0]\n",
    "\n",
    "    for i in range(1, n):\n",
    "        dp1[i][0] = max(dp1[i-1][0], -prices[i])\n",
    "        \n",
    "        for j in range(1, k+1):\n",
    "            dp0[i][j] = max(dp0[i-1][j], dp1[i-1][j-1] + prices[i])\n",
    "            dp1[i][j] = max(dp1[i-1][j], dp0[i-1][j] - prices[i])\n",
    "    \n",
    "    return dp0[n-1][k]"
   ]
  },
  {
   "cell_type": "code",
   "execution_count": 41,
   "metadata": {},
   "outputs": [
    {
     "data": {
      "text/plain": [
       "2"
      ]
     },
     "execution_count": 41,
     "metadata": {},
     "output_type": "execute_result"
    }
   ],
   "source": [
    "max_profit_3([2,4,1], 2)"
   ]
  },
  {
   "cell_type": "code",
   "execution_count": 48,
   "metadata": {},
   "outputs": [],
   "source": [
    "# 4. cool-down period of 1 day required after selling, k=inf\n",
    "def max_profit_4(prices):\n",
    "    \n",
    "    n = len(prices)\n",
    "    \n",
    "    buy = [0] * (n+1)\n",
    "    buy[1] = -prices[0]\n",
    "    \n",
    "    sell = [0] * (n+1)\n",
    "    \n",
    "    for i in range(2, n+1):\n",
    "        buy[i] = max(buy[i-1], sell[i-2] - prices[i-1])\n",
    "        sell[i] = max(sell[i-1], buy[i-1] + prices[i-1])\n",
    "\n",
    "    return sell[n]"
   ]
  },
  {
   "cell_type": "code",
   "execution_count": 49,
   "metadata": {},
   "outputs": [
    {
     "data": {
      "text/plain": [
       "3"
      ]
     },
     "execution_count": 49,
     "metadata": {},
     "output_type": "execute_result"
    }
   ],
   "source": [
    "max_profit_4([1,2,3,0,2])"
   ]
  },
  {
   "cell_type": "code",
   "execution_count": null,
   "metadata": {},
   "outputs": [],
   "source": []
  }
 ],
 "metadata": {
  "kernelspec": {
   "display_name": "Python 3",
   "language": "python",
   "name": "python3"
  },
  "language_info": {
   "codemirror_mode": {
    "name": "ipython",
    "version": 3
   },
   "file_extension": ".py",
   "mimetype": "text/x-python",
   "name": "python",
   "nbconvert_exporter": "python",
   "pygments_lexer": "ipython3",
   "version": "3.7.3"
  }
 },
 "nbformat": 4,
 "nbformat_minor": 2
}
