{
 "cells": [
  {
   "cell_type": "markdown",
   "metadata": {},
   "source": [
    "# Linked List in Python"
   ]
  },
  {
   "cell_type": "code",
   "execution_count": 1,
   "metadata": {},
   "outputs": [],
   "source": [
    "# define a Node class first\n",
    "class Node:\n",
    "    def __init__(self, data):\n",
    "        self.data = data\n",
    "        self.next = None"
   ]
  },
  {
   "cell_type": "code",
   "execution_count": 2,
   "metadata": {},
   "outputs": [],
   "source": [
    "# Define the LinkedList class (based on the Node class)\n",
    "class LinkedList:\n",
    "    def __init__(self):\n",
    "        self.head = None\n",
    "    \n",
    "    \n",
    "    def print_list(self):\n",
    "        current_node = self.head\n",
    "        while current_node:\n",
    "            print(current_node.data, '-> ', end='')\n",
    "            current_node = current_node.next\n",
    "        print('None')\n",
    "    \n",
    "    \n",
    "    def append(self, value):\n",
    "        new_node = Node(value)\n",
    "        \n",
    "        # non-empty linked list, add to the end\n",
    "        if self.head:\n",
    "            last_node = self.head\n",
    "            while last_node.next:\n",
    "                last_node = last_node.next\n",
    "            last_node.next = new_node\n",
    "        \n",
    "        # empty linked list, set new node as head\n",
    "        else:\n",
    "            self.head = new_node\n",
    "    \n",
    "    \n",
    "    def prepend(self, value):\n",
    "        new_node = Node(value)\n",
    "        \n",
    "        new_node.next = self.head\n",
    "        self.head = new_node\n",
    "\n",
    "    \n",
    "    # insertion based on index\n",
    "    def insert_before_index(self, value, target_index):\n",
    "        new_node = Node(value)\n",
    "        \n",
    "        if target_index == 0:\n",
    "            self.prepend(value)\n",
    "        elif target_index == self.len:\n",
    "            self.append(value)\n",
    "        elif target_index > self.len:\n",
    "            raise IndexError('index out of range')\n",
    "        else:\n",
    "            prev_node = None\n",
    "            current_node = self.head\n",
    "            current_index = 0\n",
    "\n",
    "            while current_index < target_index:\n",
    "                prev_node = current_node\n",
    "                current_node = current_node.next\n",
    "                current_index += 1                    \n",
    "\n",
    "            prev_node.next = new_node\n",
    "            new_node.next = current_node\n",
    "    \n",
    "    \n",
    "    # insertion based on node in the current linked list\n",
    "    def insert_after_node(self, node, value):\n",
    "        new_node = Node(value)\n",
    "        \n",
    "        new_node.next = node.next\n",
    "        node.next = new_node\n",
    "        \n",
    "        \n",
    "    # find the length from the head, recursively\n",
    "    def len_from_head(self, node):\n",
    "        if not node:\n",
    "            return 0\n",
    "        else:\n",
    "            return self.len_from_head(node.next) + 1\n",
    "    \n",
    "    \n",
    "    # find the length iteratively\n",
    "    @property\n",
    "    def len(self):\n",
    "        counter = 0\n",
    "        current_node = self.head\n",
    "\n",
    "        while current_node:\n",
    "            counter += 1\n",
    "            current_node = current_node.next\n",
    "        \n",
    "        return counter\n",
    "    \n",
    "    \n",
    "    @property\n",
    "    def reverse(self):\n",
    "        prev_node = None\n",
    "        cur_node = self.head\n",
    "        \n",
    "        while cur_node:\n",
    "            temp = cur_node.next\n",
    "            cur_node.next = prev_node\n",
    "            prev_node = cur_node\n",
    "            cur_node = temp\n",
    "        \n",
    "        self.head = prev_node"
   ]
  },
  {
   "cell_type": "markdown",
   "metadata": {},
   "source": [
    "## Test cases"
   ]
  },
  {
   "cell_type": "code",
   "execution_count": 3,
   "metadata": {},
   "outputs": [],
   "source": [
    "# initialize a linked list\n",
    "llist = LinkedList()\n",
    "llist.append(1)\n",
    "llist.append(2)\n",
    "llist.append(3)\n",
    "llist.append(4)\n",
    "llist.append(5)"
   ]
  },
  {
   "cell_type": "code",
   "execution_count": 4,
   "metadata": {},
   "outputs": [
    {
     "name": "stdout",
     "output_type": "stream",
     "text": [
      "1 -> 2 -> 3 -> 4 -> 5 -> None\n",
      "length: 5\n",
      "length: 5\n"
     ]
    }
   ],
   "source": [
    "# print out the linked list\n",
    "llist.print_list()\n",
    "\n",
    "# find the size of the linked list, using 2 ways\n",
    "print('length:', llist.len_from_head(llist.head))\n",
    "print('length:', llist.len)# initialize our linked list with some values\n"
   ]
  },
  {
   "cell_type": "code",
   "execution_count": 5,
   "metadata": {},
   "outputs": [
    {
     "name": "stdout",
     "output_type": "stream",
     "text": [
      "0 -> 1 -> 2 -> 3 -> 4 -> 5 -> None\n"
     ]
    }
   ],
   "source": [
    "# prepend method\n",
    "llist.prepend(0)\n",
    "llist.print_list()"
   ]
  },
  {
   "cell_type": "code",
   "execution_count": 6,
   "metadata": {},
   "outputs": [
    {
     "name": "stdout",
     "output_type": "stream",
     "text": [
      "0 -> 1 -> 2 -> 3 -> index_insert -> 4 -> 5 -> None\n"
     ]
    }
   ],
   "source": [
    "# insert based on index\n",
    "llist.insert_before_index('index_insert', 4)\n",
    "llist.print_list()"
   ]
  },
  {
   "cell_type": "code",
   "execution_count": 7,
   "metadata": {},
   "outputs": [
    {
     "name": "stdout",
     "output_type": "stream",
     "text": [
      "0 -> 1 -> 2 -> node_insert -> 3 -> index_insert -> 4 -> 5 -> None\n"
     ]
    }
   ],
   "source": [
    "# insert based on node\n",
    "llist.insert_after_node(llist.head.next.next, 'node_insert')\n",
    "llist.print_list()"
   ]
  },
  {
   "cell_type": "code",
   "execution_count": 8,
   "metadata": {},
   "outputs": [
    {
     "name": "stdout",
     "output_type": "stream",
     "text": [
      "5 -> 4 -> index_insert -> 3 -> node_insert -> 2 -> 1 -> 0 -> None\n"
     ]
    }
   ],
   "source": [
    "# reverse a linked list\n",
    "llist.reverse\n",
    "llist.print_list()"
   ]
  }
 ],
 "metadata": {
  "kernelspec": {
   "display_name": "Python 3",
   "language": "python",
   "name": "python3"
  },
  "language_info": {
   "codemirror_mode": {
    "name": "ipython",
    "version": 3
   },
   "file_extension": ".py",
   "mimetype": "text/x-python",
   "name": "python",
   "nbconvert_exporter": "python",
   "pygments_lexer": "ipython3",
   "version": "3.7.3"
  }
 },
 "nbformat": 4,
 "nbformat_minor": 2
}
