{
 "cells": [
  {
   "cell_type": "markdown",
   "metadata": {},
   "source": [
    "# Sorting Algorithms"
   ]
  },
  {
   "cell_type": "markdown",
   "metadata": {},
   "source": [
    "## - Bubble Sort \n",
    "time O($n^2$), space O(1), stable, in-place"
   ]
  },
  {
   "cell_type": "code",
   "execution_count": 1,
   "metadata": {},
   "outputs": [],
   "source": [
    "# compares each pair of adjacent items, swap if they are in the wrong order\n",
    "def bubble_sort(input_list):\n",
    "    # the number of rounds needed is equal to the length of input list\n",
    "    num_pass = len(input_list)\n",
    "    for i in range(num_pass):\n",
    "        # one element will be correctly positioned after each round, so one less swap needed\n",
    "        for j in range(num_pass-i-1):\n",
    "            # swap the pair if wrong order\n",
    "            if input_list[j] > input_list[j+1]:\n",
    "                input_list[j+1], input_list[j] = input_list[j], input_list[j+1]"
   ]
  },
  {
   "cell_type": "code",
   "execution_count": 2,
   "metadata": {},
   "outputs": [
    {
     "name": "stdout",
     "output_type": "stream",
     "text": [
      "[14, 21, 27, 41, 43, 45, 46, 57, 70]\n"
     ]
    }
   ],
   "source": [
    "nlist = [14,46,43,27,57,41,45,21,70]\n",
    "bubble_sort(nlist)\n",
    "print(nlist)"
   ]
  },
  {
   "cell_type": "markdown",
   "metadata": {},
   "source": [
    "## - Selection Sort\n",
    "time O($n^2$), space O(1), unstable, in-place"
   ]
  },
  {
   "cell_type": "code",
   "execution_count": 3,
   "metadata": {},
   "outputs": [],
   "source": [
    "# always look for the smallest (or biggest) value and move to the front (back)\n",
    "def selection_sort(input_list):\n",
    "    # length - 1 rounds needed\n",
    "    for i in range(len(input_list)-1):\n",
    "        # locate the minimum value\n",
    "        min_index = i\n",
    "        for j in range(i+1, len(input_list)):\n",
    "            if input_list[j] < input_list[min_index]:\n",
    "                min_index = j\n",
    "        \n",
    "        # swap if min_index is not i\n",
    "        if i != min_index:\n",
    "            input_list[i], input_list[min_index] = input_list[min_index], input_list[i]"
   ]
  },
  {
   "cell_type": "code",
   "execution_count": 4,
   "metadata": {},
   "outputs": [
    {
     "name": "stdout",
     "output_type": "stream",
     "text": [
      "[14, 21, 27, 41, 43, 45, 46, 57, 70]\n"
     ]
    }
   ],
   "source": [
    "nlist = [14,46,43,27,57,41,45,21,70]\n",
    "selection_sort(nlist)\n",
    "print(nlist)"
   ]
  },
  {
   "cell_type": "markdown",
   "metadata": {},
   "source": [
    "## - Insertion Sort\n",
    "time O($n^2$), space O(1), stable, in-place"
   ]
  },
  {
   "cell_type": "code",
   "execution_count": 5,
   "metadata": {},
   "outputs": [],
   "source": [
    "# insert element in to sorted list\n",
    "def insertion_sort(input_list):\n",
    "    # start from the 1st element, which is sorted by definition\n",
    "    for i in range(len(input_list)):\n",
    "        prev_index = i - 1\n",
    "        current_value = input_list[i]\n",
    "        \n",
    "        # from the 2nd element, look for the place to insert into the previously sorted list\n",
    "        while prev_index >= 0 and input_list[prev_index] > current_value:\n",
    "            input_list[prev_index+1] = input_list[prev_index]\n",
    "            prev_index -= 1\n",
    "        input_list[prev_index + 1] = current_value"
   ]
  },
  {
   "cell_type": "code",
   "execution_count": 6,
   "metadata": {},
   "outputs": [
    {
     "name": "stdout",
     "output_type": "stream",
     "text": [
      "[14, 21, 27, 41, 43, 45, 46, 57, 70]\n"
     ]
    }
   ],
   "source": [
    "nlist = [14,46,43,27,57,41,45,21,70]\n",
    "insertion_sort(nlist)\n",
    "print(nlist)"
   ]
  },
  {
   "cell_type": "markdown",
   "metadata": {},
   "source": [
    "## - Merge Sort\n",
    "time O(nlgn), space O(n), stable, not in-place"
   ]
  },
  {
   "cell_type": "code",
   "execution_count": 7,
   "metadata": {},
   "outputs": [],
   "source": [
    "# combine two sorted list\n",
    "def merge(left, right):\n",
    "    result = []\n",
    "    while left and right:\n",
    "        if left[0] <= right[0]:\n",
    "            result.append(left.pop(0))\n",
    "        else:\n",
    "            result.append(right.pop(0))\n",
    "    \n",
    "    # when one list becomes empty, add all element in the other list\n",
    "    while left:\n",
    "        result.append(left.pop(0))\n",
    "    while right:\n",
    "        result.append(right.pop(0))\n",
    "    \n",
    "    return result\n",
    "\n",
    "\n",
    "def merge_sort(input_list):\n",
    "    n = len(input_list)\n",
    "    \n",
    "    # list with 0 or 1 element is sorted by definition\n",
    "    if n < 2:\n",
    "        return input_list\n",
    "    # otherwise, split from the middle and recursively call merge_sort and merge\n",
    "    else:\n",
    "        left, right = input_list[:n//2], input_list[n//2:]\n",
    "        return merge(merge_sort(left), merge_sort(right))"
   ]
  },
  {
   "cell_type": "code",
   "execution_count": 8,
   "metadata": {},
   "outputs": [
    {
     "name": "stdout",
     "output_type": "stream",
     "text": [
      "[14, 21, 27, 41, 43, 45, 46, 57, 70]\n"
     ]
    }
   ],
   "source": [
    "nlist = [14,46,43,27,57,41,45,21,70]\n",
    "sorted_nlist = merge_sort(nlist)\n",
    "print(sorted_nlist)"
   ]
  },
  {
   "cell_type": "markdown",
   "metadata": {},
   "source": [
    "## - Quick Sort\n",
    "time: O(nlgn) average, space O(lgn), in-place, unstable"
   ]
  },
  {
   "cell_type": "code",
   "execution_count": 1,
   "metadata": {},
   "outputs": [],
   "source": [
    "# makes use of pivot, whose position is final in the sorted array\n",
    "# items to the pivot's left (right) are smaller (larger)\n",
    "# recursively partition the array and do quick sort\n",
    "# pivot that divides the array in half is preferred\n",
    "\n",
    "def quick_sort(input_list, left=None, right=None):\n",
    "    if not isinstance(left, (int, float)):\n",
    "        left = 0\n",
    "    if not isinstance(right, (int, float)):\n",
    "        right = len(input_list) - 1\n",
    "    \n",
    "    if left < right:\n",
    "        partition_index = partition(input_list, left, right)\n",
    "        quick_sort(input_list, left, partition_index-1)\n",
    "        quick_sort(input_list, partition_index+1, right)\n",
    "    \n",
    "    return input_list\n",
    "\n",
    "\n",
    "def partition(array, left, right):\n",
    "    pivot = left\n",
    "    index = pivot + 1\n",
    "    i = index\n",
    "    while i <= right:\n",
    "        if array[i] < array[pivot]:\n",
    "            array[i], array[index] = array[index], array[i]\n",
    "            index += 1\n",
    "        i += 1\n",
    "\n",
    "    array[pivot], array[index-1] = array[index-1], array[pivot]\n",
    "    return index - 1"
   ]
  },
  {
   "cell_type": "code",
   "execution_count": 2,
   "metadata": {},
   "outputs": [
    {
     "name": "stdout",
     "output_type": "stream",
     "text": [
      "[14, 21, 27, 41, 43, 45, 46, 57, 70]\n"
     ]
    }
   ],
   "source": [
    "nlist = [14,46,43,27,57,41,45,21,70]\n",
    "sorted_nlist = quick_sort(nlist)\n",
    "print(sorted_nlist)"
   ]
  },
  {
   "cell_type": "markdown",
   "metadata": {},
   "source": [
    "## - Heap Sort\n",
    "time: O(nlgn), space O(1), in-place, unstable"
   ]
  },
  {
   "cell_type": "code",
   "execution_count": 8,
   "metadata": {},
   "outputs": [],
   "source": [
    "# heap -> ordered binary tree\n",
    "# max heap -> parent > children\n",
    "\n",
    "\n",
    "def heapify(array, i, array_len):\n",
    "    left = 2 * i + 1\n",
    "    right = 2 * i + 2\n",
    "    largest = i\n",
    "    \n",
    "    if left < array_len and array[left] > array[largest]:\n",
    "        largest = left\n",
    "    if right < array_len and array[right] > array[largest]:\n",
    "        largest = right\n",
    "    \n",
    "    if largest != i:\n",
    "        array[i], array[largest] = array[largest], array[i]\n",
    "        heapify(array, largest, array_len)\n",
    "\n",
    "\n",
    "def heap_sort(input_list):\n",
    "    length = len(input_list)\n",
    "    \n",
    "    # build max heap\n",
    "    for i in range(length//2, -1, -1):\n",
    "        heapify(input_list, i, length)\n",
    "    \n",
    "    for i in range(length-1, 0, -1):\n",
    "        # element at max heap index 0 is the max, move it to the end\n",
    "        input_list[0], input_list[i] = input_list[i], input_list[0]\n",
    "        \n",
    "        # fix the max heap property for the remaining elements\n",
    "        length -= 1\n",
    "        heapify(input_list, 0, length)\n",
    "    \n",
    "    return input_list"
   ]
  },
  {
   "cell_type": "code",
   "execution_count": 9,
   "metadata": {},
   "outputs": [
    {
     "name": "stdout",
     "output_type": "stream",
     "text": [
      "[14, 21, 27, 41, 43, 45, 46, 57, 70]\n"
     ]
    }
   ],
   "source": [
    "nlist = [14,46,43,27,57,41,45,21,70]\n",
    "sorted_nlist = heap_sort(nlist)\n",
    "print(sorted_nlist)"
   ]
  },
  {
   "cell_type": "code",
   "execution_count": null,
   "metadata": {},
   "outputs": [],
   "source": []
  },
  {
   "cell_type": "code",
   "execution_count": null,
   "metadata": {},
   "outputs": [],
   "source": []
  }
 ],
 "metadata": {
  "kernelspec": {
   "display_name": "Python 3",
   "language": "python",
   "name": "python3"
  },
  "language_info": {
   "codemirror_mode": {
    "name": "ipython",
    "version": 3
   },
   "file_extension": ".py",
   "mimetype": "text/x-python",
   "name": "python",
   "nbconvert_exporter": "python",
   "pygments_lexer": "ipython3",
   "version": "3.7.3"
  }
 },
 "nbformat": 4,
 "nbformat_minor": 2
}
